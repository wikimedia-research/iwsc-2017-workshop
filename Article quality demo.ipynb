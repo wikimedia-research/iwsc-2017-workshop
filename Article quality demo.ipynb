{
 "cells": [
  {
   "cell_type": "code",
   "execution_count": 1,
   "metadata": {
    "collapsed": true
   },
   "outputs": [],
   "source": [
    "%matplotlib inline\n",
    "import csv\n",
    "import json\n",
    "import time\n",
    "import sys\n",
    "from concurrent.futures import ThreadPoolExecutor\n",
    "\n",
    "import requests\n",
    "import mwapi\n",
    "import mwtypes\n",
    "import pandas\n",
    "import seaborn"
   ]
  },
  {
   "cell_type": "code",
   "execution_count": 2,
   "metadata": {
    "collapsed": true
   },
   "outputs": [],
   "source": [
    "session = mwapi.Session(\"https://en.wikipedia.org\", user_agent=\"ahalfaker@wikimedia.org -- IWSC demo\")"
   ]
  },
  {
   "cell_type": "code",
   "execution_count": 3,
   "metadata": {
    "collapsed": true
   },
   "outputs": [],
   "source": [
    "WEIGHTS = {'Stub': 1, 'Start': 2, 'C': 3, 'B': 4, 'GA': 5, 'FA': 6}\n",
    "def score2sum(score_doc):\n",
    "    weighted_sum = 0\n",
    "    for cl, proba in score_doc['probability'].items():\n",
    "        weighted_sum += WEIGHTS[cl] * proba\n",
    "    return weighted_sum"
   ]
  },
  {
   "cell_type": "code",
   "execution_count": 4,
   "metadata": {
    "collapsed": true
   },
   "outputs": [],
   "source": [
    "def fetch_wp10_score(rev_id):\n",
    "    response = requests.get('https://ores.wikimedia.org/v3/scores/enwiki/{0}/wp10'.format(rev_id))\n",
    "    return response.json()['enwiki']['scores'][str(rev_id)]['wp10']['score']\n",
    "\n",
    "def fetch_wp10_scores(rev_ids):\n",
    "    executor = ThreadPoolExecutor(max_workers=8)\n",
    "    return executor.map(fetch_wp10_score, rev_ids)\n",
    "\n",
    "def fetch_historical_scores(page_name):\n",
    "    historical_scores = []\n",
    "    for response_doc in session.get(action='query', prop='revisions', titles=page_name, \n",
    "                                    rvprop=['ids', 'timestamp'], rvlimit=100, rvdir=\"newer\", \n",
    "                                    formatversion=2, continuation=True):\n",
    "        rev_docs = response_doc['query']['pages'][0]['revisions']\n",
    "        rev_ids = [d['revid'] for d in rev_docs]\n",
    "        for rev_doc, score_doc in zip(rev_docs, fetch_wp10_scores(rev_ids)):\n",
    "            rev_id = rev_doc['revid']\n",
    "            timestamp = mwtypes.Timestamp(rev_doc['timestamp'])\n",
    "            weighted_sum = score2sum(score_doc)\n",
    "            historical_scores.append({'rev_id': rev_id, 'timestamp': timestamp, 'weighted_sum': weighted_sum})\n",
    "            sys.stderr.write(\".\")\n",
    "            sys.stderr.flush()\n",
    "        sys.stderr.write(\"\\n\")\n",
    "    \n",
    "    return historical_scores\n"
   ]
  },
  {
   "cell_type": "code",
   "execution_count": 5,
   "metadata": {},
   "outputs": [
    {
     "name": "stderr",
     "output_type": "stream",
     "text": [
      "....................................................................................................\n",
      "................................................................................\n"
     ]
    }
   ],
   "source": [
    "historical_scores = pandas.DataFrame(fetch_historical_scores(\"Ann Bishop (biologist)\"))"
   ]
  },
  {
   "cell_type": "code",
   "execution_count": 6,
   "metadata": {},
   "outputs": [
    {
     "data": {
      "text/plain": [
       "<matplotlib.axes._subplots.AxesSubplot at 0x7f9aac053898>"
      ]
     },
     "execution_count": 6,
     "metadata": {},
     "output_type": "execute_result"
    },
    {
     "data": {
      "image/png": "[encoded data removed]",
      "text/plain": [
       "<matplotlib.figure.Figure at 0x7f9aac08b588>"
      ]
     },
     "metadata": {},
     "output_type": "display_data"
    }
   ],
   "source": [
    "historical_scores['time'] =pandas.to_datetime(historical_scores.timestamp, format='%Y-%m-%dT%H:%M:%SZ',errors='ignore')\n",
    "historical_scores = historical_scores.set_index('time')\n",
    "historical_scores['weighted_sum'].plot()"
   ]
  },
  {
   "cell_type": "code",
   "execution_count": 7,
   "metadata": {},
   "outputs": [
    {
     "name": "stderr",
     "output_type": "stream",
     "text": [
      "............................................................\n"
     ]
    }
   ],
   "source": [
    "historical_scores2 = pandas.DataFrame(fetch_historical_scores(\"Tiririca\"))"
   ]
  },
  {
   "cell_type": "code",
   "execution_count": 8,
   "metadata": {},
   "outputs": [
    {
     "data": {
      "text/plain": [
       "<matplotlib.axes._subplots.AxesSubplot at 0x7f9aa7ff4518>"
      ]
     },
     "execution_count": 8,
     "metadata": {},
     "output_type": "execute_result"
    },
    {
     "data": {
      "image/png": "[encoded data removed]",
      "text/plain": [
       "<matplotlib.figure.Figure at 0x7f9aac084dd8>"
      ]
     },
     "metadata": {},
     "output_type": "display_data"
    }
   ],
   "source": [
    "historical_scores2['time'] =pandas.to_datetime(historical_scores2.timestamp, format='%Y-%m-%dT%H:%M:%SZ',errors='ignore')\n",
    "historical_scores2 = historical_scores2.set_index('time')\n",
    "historical_scores2['weighted_sum'].plot()"
   ]
  },
  {
   "cell_type": "code",
   "execution_count": null,
   "metadata": {},
   "outputs": [],
   "source": []
  },
  {
   "cell_type": "code",
   "execution_count": null,
   "metadata": {},
   "outputs": [],
   "source": []
  },
  {
   "cell_type": "code",
   "execution_count": null,
   "metadata": {},
   "outputs": [],
   "source": []
  },
  {
   "cell_type": "code",
   "execution_count": null,
   "metadata": {
    "collapsed": true
   },
   "outputs": [],
   "source": []
  }
 ],
 "metadata": {
  "kernelspec": {
   "display_name": "Python 3",
   "language": "python",
   "name": "python3"
  },
  "language_info": {
   "codemirror_mode": {
    "name": "ipython",
    "version": 3
   },
   "file_extension": ".py",
   "mimetype": "text/x-python",
   "name": "python",
   "nbconvert_exporter": "python",
   "pygments_lexer": "ipython3",
   "version": "3.6.1"
  }
 },
 "nbformat": 4,
 "nbformat_minor": 2
}
